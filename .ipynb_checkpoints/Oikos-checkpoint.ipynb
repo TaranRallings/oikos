{
 "cells": [
  {
   "cell_type": "markdown",
   "metadata": {},
   "source": [
    "## Oikos Ecology Package"
   ]
  },
  {
   "cell_type": "markdown",
   "metadata": {},
   "source": [
    "* initialize empty food web (done)\n",
    "* initialize species (done)\n",
    "* generate population dynamics equations for each species (done)\n",
    "* function to assemble web function \n",
    "* function to solve ode\n",
    "* random species generator name with petname module\n",
    "* generalized model translator\n",
    "\n",
    "\n",
    "\n",
    "* adaptive foraging stuff. parameter stuff is just lists right now, might need to be np.array (done)\n",
    "* figure out how to generate unique symbols for foraging equations like elf.foraging_intensity_on_prey\n",
    "\n",
    "\n",
    "\n",
    "*** figure out lambdify and the translation from sympy to numpy"
   ]
  },
  {
   "cell_type": "markdown",
   "metadata": {},
   "source": [
    "Maybe it makes sense to do this as object oriented. A class of foodwebs that can have species added to them."
   ]
  },
  {
   "cell_type": "code",
   "execution_count": 1,
   "metadata": {},
   "outputs": [],
   "source": [
    "import math\n",
    "import numpy as np\n",
    "import sympy as sp\n",
    "from scipy.integrate import odeint"
   ]
  },
  {
   "cell_type": "markdown",
   "metadata": {},
   "source": [
    "$$ dA/dt = m * Ab * (e * f * B - (Ab * e * f * B + Ag * e * f * G))$$\n"
   ]
  },
  {
   "cell_type": "code",
   "execution_count": 28,
   "metadata": {},
   "outputs": [],
   "source": [
    "class FoodWeb:\n",
    "    # base class crafting food web objects that are then populated with food webs \n",
    "    def __init__(self, name, species_list):\n",
    "        self.name = name\n",
    "        self.species_list = species_list\n",
    "        self.species_number = len(species_list)\n",
    "        self.foraging_intensities = np.ones((self.species_number, self.species_number))\n",
    "        self.conversion_efficiencies = np.ones((self.species_number, self.species_number))\n",
    "        self.attack_efficiencies = np.ones((self.species_number, self.species_number))\n",
    "        self.af = []\n",
    "        \n",
    "        \n",
    "        def loss_to_predators(self):\n",
    "            # constructs terms for how much biomass is lost to predators\n",
    "            pred_loss = 0 \n",
    "            for pred in self.predators:\n",
    "                predator = eval(pred).symbol\n",
    "                predation = eval(pred).pred_func\n",
    "    \n",
    "                pred_loss = pred_loss + predator*predation\n",
    "            return pred_loss\n",
    "    \n",
    "        def gain_from_prey(self):\n",
    "            # constructs terms for how much biomass is gained through predation\n",
    "            prey_gain = 0\n",
    "            for prey_item in self.prey:\n",
    "                prey = eval(prey_item).symbol\n",
    "                predation = self.pred_func\n",
    "                \n",
    "                prey_gain = prey_gain + prey*predation\n",
    "            return prey_gain\n",
    "    \n",
    "        def add_trophic_interactions(self):\n",
    "            # takes seperate terms for population dynamics, biomass gain, and biomass loss and combines them\n",
    "            for species in self.species_list:\n",
    "                species.pop_dyn = species.pop_dyn + gain_from_prey(species) - loss_to_predators(species)\n",
    "                \n",
    "        def af_current_total(self):  # best version i think\n",
    "            total_af = []\n",
    "            for species in self.species_list:\n",
    "                i = self.species_list.index(species)\n",
    "                total_af.append( [] )\n",
    "                for prey_item in self.species_list[i].prey:\n",
    "                    j = species.prey.index(prey_item)\n",
    "                    single_af = self.foraging_intensities[i][j] * self.conversion_efficiencies[i][j] * self.attack_efficiencies[i][j] * eval(prey_item).symbol\n",
    "                    total_af[-1].append(single_af)\n",
    "            return total_af\n",
    "            \n",
    "        add_trophic_interactions(self)\n",
    "    \n",
    "        \n",
    "    def displaySpecies(self):\n",
    "        # prints the names of species in the food web\n",
    "        print (\"Species in the \" + self.name + \" food web:\" + '[%s]' % ', ' .join(map(str, self.species_list)))\n",
    "               \n",
    "        \n",
    "       \n",
    "    def displayName(self):\n",
    "        # prints the name of the food web\n",
    "        print (\"Name : \", self.name)\n",
    "        \n",
    "        # m∗Ab∗(eb∗fb∗B−(Ab∗eb∗fb∗B+Ag∗eg∗fg∗G))\n",
    "        # m Ab (eb fb B - (SIGMA))\n",
    "        \n",
    "        \n",
    "    def af_equations(self):\n",
    "        # collects adaptive foraging equations for each species\n",
    "        pass\n",
    "    \n",
    "    def af_system(self):\n",
    "        # collects the adaptive foraging equations of all species in the food web\n",
    "        pass\n",
    "        \n",
    "    \n",
    "    def web_system(self):\n",
    "        # takes the population dynamics equations of species in the web and combines them into an ODE system\n",
    "        # returns ODE system, vector of initial densities, and the symbols of the species\n",
    "        web = []\n",
    "        init_density = []\n",
    "        species_symbols = []\n",
    "        for species in self.species_list:\n",
    "            web.append(species.pop_dyn)\n",
    "            init_density.append(species.pop_density)\n",
    "            species_symbols.append(species.symbol) \n",
    "        return web, init_density, species_symbols\n",
    "            \n",
    "            \n",
    "    def nsolve_foodweb(self):\n",
    "        # integrates the foodweb over time\n",
    "        \n",
    "        # assemble population dyanmic functions\n",
    "        # translate to numpy(?) with lambdify\n",
    "        # solve numerically\n",
    "        pass\n",
    "    \n",
    "\n",
    "            \n",
    "    "
   ]
  },
  {
   "cell_type": "code",
   "execution_count": 3,
   "metadata": {},
   "outputs": [],
   "source": [
    "#time_grid = np.linspace(0, 100, 100)\n"
   ]
  },
  {
   "cell_type": "code",
   "execution_count": 4,
   "metadata": {},
   "outputs": [],
   "source": [
    "#labrea_web, labrea_init, labrea_species = labrea.web_system()"
   ]
  },
  {
   "cell_type": "code",
   "execution_count": 5,
   "metadata": {},
   "outputs": [],
   "source": [
    "#lam_labrea = lambdify(labrea_species, labrea_web, 'numpy')"
   ]
  },
  {
   "cell_type": "code",
   "execution_count": 6,
   "metadata": {},
   "outputs": [],
   "source": [
    "#soln = odeint(lam_labrea, labrea_init, time_grid)\n"
   ]
  },
  {
   "cell_type": "code",
   "execution_count": 29,
   "metadata": {},
   "outputs": [],
   "source": [
    "class Species:\n",
    "    # class for a species inside a food web\n",
    "    def __init__(self, name, symbol, mass, pop_density, prey, predators, growth_func, pred_func, death_func, \n",
    "                adaptive_foraging = False):\n",
    "        self.name = name                   # string name of species\n",
    "        self.mass = mass                   # float mass of species\n",
    "        self.pop_density = pop_density     # float population density of species\n",
    "        self.prey = prey                   # list of species it eats\n",
    "        self.predators = predators         # list of species that eat it\n",
    "        self.growth_func = growth_func     # function for growth in species density by autotrophy\n",
    "        self.pred_func = pred_func         # function for growth in species density by hetertrophy\n",
    "        self.death_func = death_func       # function for loss in species density \n",
    "        self.symbol = sp.symbols(symbol)\n",
    "        #self.pred_loss = loss_to_predators(self)\n",
    "    \n",
    "    \n",
    "        self.pop_dyn = growth_func * self.symbol - death_func * self.symbol   \n",
    "        \n",
    "        self.af = adaptive_foraging\n",
    "        \n",
    "        \n",
    "    \n",
    "       \n",
    "    def displayName(self):\n",
    "        print(\"Name : \", self.name)\n",
    "        \n",
    "    def displayPrey(self):\n",
    "        print(\"Prey of the \" + self.name + ':' + '[%s]'  % ', '.join(map(str, self.prey)))\n",
    "        \n",
    "    def displayPredators(self):\n",
    "        pred_names = self.predators\n",
    "        print('Predators of the ' + self.name + ':' + '[%s]' % ', '.join(map(str, self.predators)))\n",
    "        \n",
    "    def add_prey(self, prey):\n",
    "        self.prey.append(prey)\n",
    "        \n",
    "    def add_predator(self, predator):\n",
    "        self.predators.append(predator)\n",
    "        \n",
    "\n",
    "        \n",
    "    \n",
    "        "
   ]
  },
  {
   "cell_type": "code",
   "execution_count": 30,
   "metadata": {},
   "outputs": [],
   "source": [
    "W0 = 0.01\n",
    "M0 = 0.05\n",
    "H0 = 0.2\n",
    "L0 = 0.005\n",
    "S0 = 0.5\n",
    "\n",
    "#r = 0.01\n",
    "#m = 0.0001\n",
    "#a = 0.2"
   ]
  },
  {
   "cell_type": "code",
   "execution_count": 31,
   "metadata": {},
   "outputs": [],
   "source": [
    "# library for population dynamic sub-functions\n",
    "\n",
    "linear_growth = sp.symbols('r')\n",
    "linear_death = sp.symbols('m')\n",
    "linear_predation = sp.symbols('a')\n",
    "\n",
    "attack_efficiency = sp.symbols('f')\n",
    "conversion_efficiency = sp.symbols('e')\n",
    "learning_rate = sp.symbols('l')\n"
   ]
  },
  {
   "cell_type": "code",
   "execution_count": 10,
   "metadata": {},
   "outputs": [],
   "source": [
    "#linear_growth = 0.5\n",
    "#linear_death = 0.1\n",
    "#linear_predation = 0.2"
   ]
  },
  {
   "cell_type": "code",
   "execution_count": 32,
   "metadata": {},
   "outputs": [],
   "source": [
    "wolf = Species('wolf', 'W', 40, W0, ['hare', 'moose'], [], growth_func=0, pred_func=linear_predation, \n",
    "               death_func=linear_death)\n",
    "\n",
    "moose = Species('moose', 'M', 200, M0, ['shrubbery'], ['wolf', 'lion'], growth_func=0, pred_func=linear_predation, \n",
    "               death_func=linear_death)\n",
    "\n",
    "hare = Species('hare', 'H', 3, H0, ['shrubbery'], ['wolf'], growth_func=0, pred_func=linear_predation, \n",
    "               death_func=linear_death)\n",
    "\n",
    "lion = Species('lion', 'L', 100, L0, ['wolf', 'moose'], [], growth_func=0, pred_func=linear_predation, \n",
    "               death_func=linear_death)\n",
    "\n",
    "shrubbery = Species('shrubbery', 'S', 0, S0, [], ['hare', 'moose'], growth_func=linear_growth, pred_func=linear_predation, \n",
    "               death_func=linear_death)\n",
    "\n",
    "labrea = FoodWeb('La Brea', [wolf, moose, hare, lion, shrubbery])\n"
   ]
  },
  {
   "cell_type": "code",
   "execution_count": 12,
   "metadata": {},
   "outputs": [
    {
     "data": {
      "text/plain": [
       "H*a + M*a - W*m"
      ]
     },
     "execution_count": 12,
     "metadata": {},
     "output_type": "execute_result"
    }
   ],
   "source": [
    "wolf.pop_dyn"
   ]
  },
  {
   "cell_type": "code",
   "execution_count": null,
   "metadata": {},
   "outputs": [],
   "source": []
  },
  {
   "cell_type": "code",
   "execution_count": null,
   "metadata": {},
   "outputs": [],
   "source": []
  },
  {
   "cell_type": "code",
   "execution_count": 33,
   "metadata": {},
   "outputs": [
    {
     "data": {
      "text/plain": [
       "[[1.0*H, 1.0*M], [1.0*S], [1.0*S], [1.0*W, 1.0*M], []]"
      ]
     },
     "execution_count": 33,
     "metadata": {},
     "output_type": "execute_result"
    }
   ],
   "source": [
    "labrea.af_current_total()"
   ]
  },
  {
   "cell_type": "code",
   "execution_count": 15,
   "metadata": {},
   "outputs": [],
   "source": [
    "wha = [5, 4, 4]\n",
    "blurp = [0, 8, 5]\n",
    "narf = []"
   ]
  },
  {
   "cell_type": "code",
   "execution_count": null,
   "metadata": {},
   "outputs": [],
   "source": []
  },
  {
   "cell_type": "code",
   "execution_count": 16,
   "metadata": {},
   "outputs": [],
   "source": [
    "def symbolic_param_generator(symbol, number):\n",
    "    outer = []\n",
    "    for i in range(number):\n",
    "        inner = []\n",
    "        for j in range(number):\n",
    "            inner = inner + symbol"
   ]
  },
  {
   "cell_type": "code",
   "execution_count": null,
   "metadata": {},
   "outputs": [],
   "source": []
  },
  {
   "cell_type": "code",
   "execution_count": 17,
   "metadata": {},
   "outputs": [],
   "source": []
  },
  {
   "cell_type": "code",
   "execution_count": 18,
   "metadata": {},
   "outputs": [],
   "source": []
  },
  {
   "cell_type": "code",
   "execution_count": 26,
   "metadata": {},
   "outputs": [],
   "source": []
  },
  {
   "cell_type": "code",
   "execution_count": null,
   "metadata": {},
   "outputs": [],
   "source": []
  },
  {
   "cell_type": "code",
   "execution_count": null,
   "metadata": {},
   "outputs": [],
   "source": []
  },
  {
   "cell_type": "code",
   "execution_count": null,
   "metadata": {},
   "outputs": [],
   "source": []
  },
  {
   "cell_type": "code",
   "execution_count": null,
   "metadata": {},
   "outputs": [],
   "source": []
  },
  {
   "cell_type": "code",
   "execution_count": null,
   "metadata": {},
   "outputs": [],
   "source": []
  },
  {
   "cell_type": "code",
   "execution_count": null,
   "metadata": {},
   "outputs": [],
   "source": []
  }
 ],
 "metadata": {
  "kernelspec": {
   "display_name": "Python 3",
   "language": "python",
   "name": "python3"
  },
  "language_info": {
   "codemirror_mode": {
    "name": "ipython",
    "version": 3
   },
   "file_extension": ".py",
   "mimetype": "text/x-python",
   "name": "python",
   "nbconvert_exporter": "python",
   "pygments_lexer": "ipython3",
   "version": "3.5.2"
  }
 },
 "nbformat": 4,
 "nbformat_minor": 2
}
