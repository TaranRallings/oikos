{
 "cells": [
  {
   "cell_type": "markdown",
   "metadata": {},
   "source": [
    "# Toy Species Generator \n",
    "### To feed into trait-diet mapping"
   ]
  },
  {
   "cell_type": "code",
   "execution_count": 85,
   "metadata": {},
   "outputs": [],
   "source": [
    "import math\n",
    "import numpy as np\n",
    "import sympy as sp\n",
    "from scipy.integrate import odeint\n",
    "import random \n",
    "import petname as pn"
   ]
  },
  {
   "cell_type": "code",
   "execution_count": 68,
   "metadata": {},
   "outputs": [],
   "source": [
    "class Species:\n",
    "    # class for a species inside a food web\n",
    "    def __init__(self, name):\n",
    "        self.name = name                   # string name of species\n",
    "\n",
    "    def displayName(self):\n",
    "        print(\"Name : \", self.name)\n",
    "        \n"
   ]
  },
  {
   "cell_type": "code",
   "execution_count": 69,
   "metadata": {},
   "outputs": [],
   "source": [
    "class Animal(Species):\n",
    "    # class for an animal species, possessing animal traits\n",
    "    def __init__(self, mass, tooth_shape, cusp_type, gut_type, arborial, burrowing):\n",
    "    \n",
    "        self.mass = mass                   # float mass of species\n",
    "        self.tooth_shape = tooth_shape     # string tooth shape\n",
    "        self.cusp_type = cusp_type         # string cusp type\n",
    "        self.gut_type = gut_type           # string gut type\n",
    "        self.arborial = arborial           # bool arboriality\n",
    "        self.burrowing = burrowing         # bool burrowing\n",
    "        \n",
    "        super().__init__(self)"
   ]
  },
  {
   "cell_type": "code",
   "execution_count": 76,
   "metadata": {},
   "outputs": [],
   "source": [
    "def generate_animal(name):\n",
    "    mass = random.uniform(0,1000)\n",
    "    tooth_shape = random.choice(['low', 'medium', 'high'])\n",
    "    cusp_type = random.choice(['low', 'medium', 'high'])\n",
    "    gut_type = random.choice(['hindgut', 'ruminant', 'other'])\n",
    "    arborial = random.choice([True, False])\n",
    "    burrowing = random.choice([True, False])\n",
    "    \n",
    "    new_animal = Animal(mass, tooth_shape, cusp_type, gut_type, arborial, burrowing)\n",
    "    new_animal.name = name\n",
    "    return new_animal"
   ]
  },
  {
   "cell_type": "code",
   "execution_count": 77,
   "metadata": {},
   "outputs": [
    {
     "name": "stdout",
     "output_type": "stream",
     "text": [
      "Name :  pupper\n"
     ]
    }
   ],
   "source": [
    "pupper = generate_animal('pupper')\n",
    "pupper.displayName()"
   ]
  },
  {
   "cell_type": "code",
   "execution_count": 48,
   "metadata": {},
   "outputs": [],
   "source": [
    "class Plant(Species):\n",
    "    # class for a plant species, possessing plant traits\n",
    "    def __init__(self, seed_size, seed_number, crown_height, c_n_ratio, leaf_toughness, silica, spines):\n",
    "        \n",
    "        self.seed_size = seed_size             # float mean mass of seeds\n",
    "        self.seed_number = seed_number         # float mean number of seeds\n",
    "        self.crown_height = crown_height       # float height of crown\n",
    "        self.c_n_ratio = c_n_ratio           # float carbon/nitrogen ratio\n",
    "        self.leaf_toughtness = leaf_toughness  # string toughness of leaves\n",
    "        self.silica = silica                   # string silica content\n",
    "        self.spines = spines                   # string presence of spines\n",
    "        \n",
    "        super().__init__(self)"
   ]
  },
  {
   "cell_type": "code",
   "execution_count": 78,
   "metadata": {},
   "outputs": [],
   "source": [
    "def generate_plant(name):\n",
    "    seed_size = np.random.uniform(0,1)\n",
    "    seed_number = np.random.uniform(0,100)\n",
    "    crown_height = np.random.uniform(0, 10)\n",
    "    c_n_ratio = np.random.uniform(12,100)\n",
    "    leaf_toughness = random.choice(['low', 'medium', 'high'])\n",
    "    silica = random.choice(['low', 'medium', 'high'])\n",
    "    spines = random.choice(['low', 'medium', 'high'])\n",
    "    \n",
    "    new_plant = Plant(seed_size, seed_number, crown_height, c_n_ratio, leaf_toughness,\n",
    "                silica, spines)\n",
    "    new_plant.name = name\n",
    "    return new_plant"
   ]
  },
  {
   "cell_type": "code",
   "execution_count": 79,
   "metadata": {},
   "outputs": [
    {
     "name": "stdout",
     "output_type": "stream",
     "text": [
      "Name :  strawberry\n"
     ]
    }
   ],
   "source": [
    "strawberry = generate_plant('strawberry')\n",
    "strawberry.displayName()"
   ]
  },
  {
   "cell_type": "code",
   "execution_count": null,
   "metadata": {},
   "outputs": [],
   "source": []
  },
  {
   "cell_type": "code",
   "execution_count": 84,
   "metadata": {},
   "outputs": [
    {
     "ename": "AttributeError",
     "evalue": "module 'petname' has no attribute 'petname'",
     "output_type": "error",
     "traceback": [
      "\u001b[0;31m---------------------------------------------------------------------------\u001b[0m",
      "\u001b[0;31mAttributeError\u001b[0m                            Traceback (most recent call last)",
      "\u001b[0;32m<ipython-input-84-0f50bd00c290>\u001b[0m in \u001b[0;36m<module>\u001b[0;34m()\u001b[0m\n\u001b[0;32m----> 1\u001b[0;31m \u001b[0mpetname\u001b[0m\u001b[0;34m.\u001b[0m\u001b[0mpetname\u001b[0m\u001b[0;34m(\u001b[0m\u001b[0;34m)\u001b[0m\u001b[0;34m\u001b[0m\u001b[0m\n\u001b[0m",
      "\u001b[0;31mAttributeError\u001b[0m: module 'petname' has no attribute 'petname'"
     ]
    }
   ],
   "source": []
  },
  {
   "cell_type": "code",
   "execution_count": null,
   "metadata": {},
   "outputs": [],
   "source": []
  }
 ],
 "metadata": {
  "kernelspec": {
   "display_name": "Python 3",
   "language": "python",
   "name": "python3"
  },
  "language_info": {
   "codemirror_mode": {
    "name": "ipython",
    "version": 3
   },
   "file_extension": ".py",
   "mimetype": "text/x-python",
   "name": "python",
   "nbconvert_exporter": "python",
   "pygments_lexer": "ipython3",
   "version": "3.5.2"
  }
 },
 "nbformat": 4,
 "nbformat_minor": 2
}
